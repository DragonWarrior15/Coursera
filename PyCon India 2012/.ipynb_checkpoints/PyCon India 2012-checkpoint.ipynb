{
 "cells": [
  {
   "cell_type": "markdown",
   "metadata": {},
   "source": [
    "# Competition Programming and Problem Solving using Python"
   ]
  },
  {
   "cell_type": "markdown",
   "metadata": {},
   "source": [
    "#### <p align=\"right\">by Dhruv Baldawa<p>"
   ]
  },
  {
   "cell_type": "code",
   "execution_count": null,
   "metadata": {
    "collapsed": false
   },
   "outputs": [],
   "source": [
    "BIG_NUMBER = 10**5"
   ]
  },
  {
   "cell_type": "markdown",
   "metadata": {},
   "source": [
    "# List Types v/s Iterator types"
   ]
  },
  {
   "cell_type": "markdown",
   "metadata": {},
   "source": [
    "## range v/s xrange"
   ]
  },
  {
   "cell_type": "markdown",
   "metadata": {},
   "source": [
    "#### range"
   ]
  },
  {
   "cell_type": "code",
   "execution_count": null,
   "metadata": {
    "collapsed": false
   },
   "outputs": [],
   "source": [
    "%%timeit\n",
    "# range\n",
    "sum = 0\n",
    "l = range(BIG_NUMBER)\n",
    "for x in l:\n",
    "    sum += x\n",
    "\n",
    "# Access Operations\n",
    "#print l[-1] # Pass\n",
    "\n",
    "# Assignment operation\n",
    "l[10] = -1 # Pass\n",
    "#print l[10]"
   ]
  },
  {
   "cell_type": "markdown",
   "metadata": {},
   "source": [
    "#### xrange"
   ]
  },
  {
   "cell_type": "code",
   "execution_count": null,
   "metadata": {
    "collapsed": false
   },
   "outputs": [],
   "source": [
    "%%timeit\n",
    "# xrange\n",
    "sum = 0\n",
    "l = xrange(BIG_NUMBER)\n",
    "for x in l:\n",
    "    sum += x\n",
    "\n",
    "# Access Operations\n",
    "#print l[-1] # Pass\n",
    "\n",
    "# Assignment operation\n",
    "#l[10] = -1 # FAILS !!\n",
    "#print l[10]"
   ]
  },
  {
   "cell_type": "markdown",
   "metadata": {},
   "source": [
    "## List Comprehensions v/s Generator Expressions"
   ]
  },
  {
   "cell_type": "markdown",
   "metadata": {},
   "source": [
    "### List Comprehensions"
   ]
  },
  {
   "cell_type": "markdown",
   "metadata": {},
   "source": [
    "**Syntax**: `[expression for variables in iterable if condition]`"
   ]
  },
  {
   "cell_type": "code",
   "execution_count": null,
   "metadata": {
    "collapsed": false
   },
   "outputs": [],
   "source": [
    "%%timeit\n",
    "# Using loops\n",
    "square_list = []\n",
    "for x in range(BIG_NUMBER):\n",
    "    square_list.append(x**2)"
   ]
  },
  {
   "cell_type": "code",
   "execution_count": null,
   "metadata": {
    "collapsed": false
   },
   "outputs": [],
   "source": [
    "%%timeit\n",
    "# List Comprehensions\n",
    "square_list = [x**2 for x in range(BIG_NUMBER)]"
   ]
  },
  {
   "cell_type": "markdown",
   "metadata": {},
   "source": [
    "**_Playing with List Comprehensions_**"
   ]
  },
  {
   "cell_type": "code",
   "execution_count": null,
   "metadata": {
    "collapsed": false
   },
   "outputs": [],
   "source": [
    "square_list = [x**2 for x in range(BIG_NUMBER)]"
   ]
  },
  {
   "cell_type": "code",
   "execution_count": null,
   "metadata": {
    "collapsed": false
   },
   "outputs": [],
   "source": [
    "# Playground\n",
    "print square_list[:10]\n",
    "print square_list[4]"
   ]
  },
  {
   "cell_type": "markdown",
   "metadata": {},
   "source": [
    "### Generator Expressions"
   ]
  },
  {
   "cell_type": "markdown",
   "metadata": {},
   "source": [
    "**Syntax**: `(expression for variables in iterable if condition)`"
   ]
  },
  {
   "cell_type": "code",
   "execution_count": null,
   "metadata": {
    "collapsed": false
   },
   "outputs": [],
   "source": [
    "%%timeit\n",
    "# Generator Expressions\n",
    "square_list = (x**2 for x in range(BIG_NUMBER))"
   ]
  },
  {
   "cell_type": "markdown",
   "metadata": {},
   "source": [
    "**_Playing with Generator Expressions_**"
   ]
  },
  {
   "cell_type": "code",
   "execution_count": null,
   "metadata": {
    "collapsed": false
   },
   "outputs": [],
   "source": [
    "square_list = (x**2 for x in range(BIG_NUMBER))"
   ]
  },
  {
   "cell_type": "code",
   "execution_count": null,
   "metadata": {
    "collapsed": false
   },
   "outputs": [],
   "source": [
    "# Playground\n",
    "print square_list.next()"
   ]
  },
  {
   "cell_type": "markdown",
   "metadata": {},
   "source": [
    "## Functions v/s Generators"
   ]
  },
  {
   "cell_type": "markdown",
   "metadata": {},
   "source": [
    "#### Functions"
   ]
  },
  {
   "cell_type": "markdown",
   "metadata": {},
   "source": [
    "```\n",
    "def function(params):\n",
    "    ....\n",
    "    ....\n",
    "    return something\n",
    "```"
   ]
  },
  {
   "cell_type": "code",
   "execution_count": null,
   "metadata": {
    "collapsed": false
   },
   "outputs": [],
   "source": [
    "import math\n",
    "def get_me_factorials_till(n):\n",
    "    '''Returns a list of factorials from 1 to n'''\n",
    "    return_list = []\n",
    "    for x in range(1, n):\n",
    "        return_list.append(math.factorial(x))\n",
    "    return return_list"
   ]
  },
  {
   "cell_type": "code",
   "execution_count": null,
   "metadata": {
    "collapsed": false
   },
   "outputs": [],
   "source": [
    "# Playground\n",
    "factorials = get_me_factorials_till(10)\n",
    "print factorials"
   ]
  },
  {
   "cell_type": "markdown",
   "metadata": {},
   "source": [
    "#### Generators"
   ]
  },
  {
   "cell_type": "markdown",
   "metadata": {},
   "source": [
    "```\n",
    "def function(params):\n",
    "    ...\n",
    "    ...\n",
    "    yield something\n",
    "```"
   ]
  },
  {
   "cell_type": "code",
   "execution_count": null,
   "metadata": {
    "collapsed": false
   },
   "outputs": [],
   "source": [
    "import math\n",
    "def generate_me_factorials_till(n):\n",
    "    '''Generates factorials from 1 to n'''\n",
    "    for x in range(1, n):\n",
    "        yield math.factorial(x)\n",
    "\n",
    "factorials = generate_me_factorials_till(10)"
   ]
  },
  {
   "cell_type": "code",
   "execution_count": null,
   "metadata": {
    "collapsed": false
   },
   "outputs": [],
   "source": [
    "# Playground\n",
    "print factorials\n",
    "\n",
    "# Its an iterator\n",
    "print factorials.next()"
   ]
  },
  {
   "cell_type": "code",
   "execution_count": null,
   "metadata": {
    "collapsed": false
   },
   "outputs": [],
   "source": [
    "# Playground\n",
    "# So, it can be iterated on:\n",
    "# Create a new generator, since the earlier one will be used up\n",
    "factorials = generate_me_factorials_till(10)\n",
    "for factorial in factorials:\n",
    "    print factorial,"
   ]
  },
  {
   "cell_type": "markdown",
   "metadata": {},
   "source": [
    "## Set and Dictionary Comprehensions"
   ]
  },
  {
   "cell_type": "markdown",
   "metadata": {},
   "source": [
    "**Set Comprehension:**\n",
    "`{value for value in expressions if conditions}`\n",
    "\n",
    "**Dict Comprehensions:**\n",
    "`{key: value for key, value in expressionss if conditions}`"
   ]
  },
  {
   "cell_type": "code",
   "execution_count": null,
   "metadata": {
    "collapsed": false
   },
   "outputs": [],
   "source": [
    "# Playground\n",
    "# Set comprehension\n",
    "print {k for k in 'ABCDEFEDCBA'}\n",
    "\n",
    "# Dictionary Comprehension\n",
    "print {k: k+1 for k in range(10)}"
   ]
  },
  {
   "cell_type": "markdown",
   "metadata": {},
   "source": [
    "## import itertools"
   ]
  },
  {
   "cell_type": "markdown",
   "metadata": {},
   "source": [
    "[itertools documentation](http://docs.python.org/library/itertools.html)\n",
    "\n",
    "**N-Queens Puzzle**"
   ]
  },
  {
   "cell_type": "code",
   "execution_count": null,
   "metadata": {
    "collapsed": false
   },
   "outputs": [],
   "source": [
    "# N-Queens Puzzle\n",
    "# Reference: http://code.activestate.com/recipes/576647-eight-queens-six-lines/\n",
    "from itertools import permutations\n",
    "\n",
    "n = 8\n",
    "cols = range(n)\n",
    "for vec in permutations(cols):\n",
    "    if (n == len(set(vec[i]+i for i in cols))\n",
    "          == len(set(vec[i]-i for i in cols))):\n",
    "        print vec"
   ]
  },
  {
   "cell_type": "markdown",
   "metadata": {},
   "source": [
    "## import collections"
   ]
  },
  {
   "cell_type": "markdown",
   "metadata": {},
   "source": [
    "#### deque"
   ]
  },
  {
   "cell_type": "code",
   "execution_count": null,
   "metadata": {
    "collapsed": false
   },
   "outputs": [],
   "source": [
    "import collections\n",
    "# Creating a deque\n",
    "\n",
    "d = collections.deque(['first', 'second', 'third', 'current last'])\n",
    "print d\n",
    "print '--'\n",
    "\n",
    "# right rotation\n",
    "d.rotate()\n",
    "print '>>> d.rotate()'\n",
    "print d\n",
    "print '--'\n",
    "\n",
    "# left rotation\n",
    "d.rotate(-1)\n",
    "print '>>> d.rotate(-1)'\n",
    "print d\n",
    "print '--'\n",
    "\n",
    "# append from left side\n",
    "d.appendleft(\"new first\")\n",
    "print '>>> d.appendleft(\"new first\")'\n",
    "print d\n",
    "print '--'\n",
    "\n",
    "# remove from the left side\n",
    "d.popleft()\n",
    "print '>>> d.popleft()'\n",
    "print d\n",
    "print '--'\n",
    "\n",
    "d.append(\"new last\")\n",
    "print '>>> d.append(\"new last\")'\n",
    "print d\n",
    "print '--'\n",
    "\n",
    "d.pop()\n",
    "print '>>> d.pop()'\n",
    "print d\n",
    "print '--'"
   ]
  },
  {
   "cell_type": "markdown",
   "metadata": {},
   "source": [
    "#### Counter"
   ]
  },
  {
   "cell_type": "code",
   "execution_count": null,
   "metadata": {
    "collapsed": false
   },
   "outputs": [],
   "source": [
    "# Playground\n",
    "from collections import Counter\n",
    "c = Counter(a=3, b=1)\n",
    "d = Counter(a=1, b=2)\n",
    "\n",
    "print c, d\n",
    "print '--'\n",
    "\n",
    "# add two counters together:  c[x] + d[x]\n",
    "print '>>> c + d'\n",
    "print c + d\n",
    "print '--'\n",
    "\n",
    "# subtract (keeping only positive counts)\n",
    "print '>>> c - d'\n",
    "print c - d\n",
    "print '--'\n",
    "\n",
    "# intersection:  min(c[x], d[x])\n",
    "print '>>> c & d'\n",
    "print c & d\n",
    "print '--'\n",
    "\n",
    "# union:  max(c[x], d[x])\n",
    "print '>>> c | d'\n",
    "print c | d\n",
    "print '--'\n",
    "\n",
    "text = \"I saw Susie sitting in a shoe shine shop.\"\n",
    "\n",
    "import re\n",
    "c = Counter(re.split(r\"\\W+\", text, flags=re.IGNORECASE))\n",
    "print c\n",
    "print '--'\n",
    "\n",
    "new_text = \"Where she sits she shines, and where she shines she sits.\"\n",
    "print '>>> c.update(new_text)'\n",
    "c.update(re.split(r\"\\W+\", new_text, flags=re.IGNORECASE))\n",
    "print c\n",
    "print '--'\n",
    "\n",
    "print '>>> c.most_common(3)'\n",
    "print c.most_common(3)\n",
    "print '--'"
   ]
  },
  {
   "cell_type": "markdown",
   "metadata": {},
   "source": [
    "#### defaultdict"
   ]
  },
  {
   "cell_type": "code",
   "execution_count": null,
   "metadata": {
    "collapsed": false
   },
   "outputs": [],
   "source": [
    "from collections import defaultdict\n",
    "\n",
    "# defaultdict takes a default_factory as an argument\n",
    "# you can always subclass it to have it with your own\n",
    "# default factory\n",
    "default_dict = defaultdict(int)\n",
    "print default_dict[10]"
   ]
  },
  {
   "cell_type": "markdown",
   "metadata": {},
   "source": [
    "## Memoization"
   ]
  },
  {
   "cell_type": "markdown",
   "metadata": {},
   "source": [
    "### Collatz Conjecture"
   ]
  },
  {
   "cell_type": "raw",
   "metadata": {},
   "source": [
    "The following iterative sequence is defined for the set of positive integers:\n",
    "\n",
    "n ->  n/2 (n is even)\n",
    "n -> 3n + 1 (n is odd)\n",
    "\n",
    "Using the rule above and starting with 13, we generate the following sequence:\n",
    "13 -> 40 -> 20 -> 10 -> 5 -> 16 -> 8 -> 4 -> 2 -> 1\n",
    "\n",
    "Which starting number, under one million, produces the longest chain?"
   ]
  },
  {
   "cell_type": "code",
   "execution_count": null,
   "metadata": {
    "collapsed": false
   },
   "outputs": [],
   "source": [
    "# Iterative solution\n",
    "def chain(i):\n",
    "    '''Iterative approach to solve the chain problem'''\n",
    "    c = [i]\n",
    "    last_element = i\n",
    "\n",
    "    while last_element > 1:\n",
    "        if last_element % 2 == 0:\n",
    "            last_element = last_element / 2\n",
    "        else:\n",
    "            last_element = 3 * last_element + 1\n",
    "        c.append(last_element)\n",
    "    return c\n",
    "\n",
    "def the_simple_chain():\n",
    "    start = 2\n",
    "    limit = 1000000\n",
    "    max_length = 1\n",
    "    max_num = 1\n",
    "    for i in xrange(start, limit):\n",
    "        c = chain(i)\n",
    "        if len(c) > max_length:\n",
    "            max_num = i\n",
    "            max_length = len(c)\n",
    "\n",
    "    return max_num\n",
    "\n",
    "%timeit the_simple_chain()\n",
    "# takes around 37.7s"
   ]
  },
  {
   "cell_type": "code",
   "execution_count": null,
   "metadata": {
    "collapsed": false
   },
   "outputs": [],
   "source": [
    "# Recursive solution\n",
    "def chain(n):\n",
    "    \"\"\"\n",
    "    Recursive function for the above expression\n",
    "    \"\"\"\n",
    "    if n == 1:\n",
    "        return [1]\n",
    "    else:\n",
    "        if n % 2 == 0:\n",
    "            return [n] + chain(n / 2)\n",
    "        else:\n",
    "            return [n] + chain(3 * n + 1)\n",
    "\n",
    "def the_recursive_chain():\n",
    "    start = 2\n",
    "    limit = 1000000\n",
    "    max_length = 1\n",
    "    max_num = 1\n",
    "\n",
    "    for i in xrange(limit, start, -1):\n",
    "        chain_list = chain(i)\n",
    "\n",
    "        if len(chain_list) > max_length:\n",
    "            max_length = len(chain_list)\n",
    "            max_num = i\n",
    "\n",
    "    return max_num\n",
    "\n",
    "%timeit the_recursive_chain()\n",
    "# takes around 1m 53s"
   ]
  },
  {
   "cell_type": "code",
   "execution_count": null,
   "metadata": {
    "collapsed": false
   },
   "outputs": [],
   "source": [
    "# Recursive solution\n",
    "cache = {}\n",
    "def chain(n):\n",
    "    \"\"\"\n",
    "    Memoized recursive function for the above expression\n",
    "    \"\"\"\n",
    "    if n in cache:\n",
    "        return cache[n]\n",
    "    if n == 1:\n",
    "        cache[1] = [1]\n",
    "        return cache[1]\n",
    "    else:\n",
    "        if n % 2 == 0:\n",
    "            cache[n] = [n] + chain(n / 2)\n",
    "            return cache[n]\n",
    "        else:\n",
    "            cache[n] = [n] + chain(3 * n + 1)\n",
    "            return cache[n]\n",
    "\n",
    "def the_recursive_chain():\n",
    "    start = 2\n",
    "    limit = 1000000\n",
    "    max_length = 1\n",
    "    max_num = 1\n",
    "\n",
    "    for i in xrange(limit, start, -1):\n",
    "        chain_list = chain(i)\n",
    "\n",
    "        if len(chain_list) > max_length:\n",
    "            max_length = len(chain_list)\n",
    "            max_num = i\n",
    "\n",
    "    return max_num\n",
    "\n",
    "%timeit the_recursive_chain()"
   ]
  },
  {
   "cell_type": "markdown",
   "metadata": {},
   "source": [
    "## Multiplication Problem"
   ]
  },
  {
   "cell_type": "markdown",
   "metadata": {},
   "source": [
    "**Naive Implementation**\n",
    "\n",
    "2 * 3 = 2 + 2 + 2"
   ]
  },
  {
   "cell_type": "code",
   "execution_count": 57,
   "metadata": {
    "collapsed": false
   },
   "outputs": [
    {
     "name": "stdout",
     "output_type": "stream",
     "text": [
      "10 loops, best of 3: 112 ms per loop\n"
     ]
    }
   ],
   "source": [
    "# Naive Multiplication\n",
    "def naive(a, b):\n",
    "    x = a\n",
    "    y = b\n",
    "    z = 0\n",
    "    while x > 0:\n",
    "        z = z + y\n",
    "        x = x - 1\n",
    "    return z\n",
    "\n",
    "%timeit naive(BIG_NUMBER, BIG_NUMBER)\n",
    "# 1 loops, best of 3: 11.6 s per loop"
   ]
  },
  {
   "cell_type": "markdown",
   "metadata": {},
   "source": [
    "#### Russian Peasant's Algorithm"
   ]
  },
  {
   "cell_type": "raw",
   "metadata": {},
   "source": [
    "Algorithm:\n",
    "----------\n",
    "* Write each number at the head of a column.\n",
    "* Double the number in the first column, and halve the number in the second column.\n",
    "  * If the number in the second column is odd, divide it by two and drop the remainder.\n",
    "* If the number in the second column is even, cross out that entire row.\n",
    "* Keep doubling, halving, and crossing out until the number in the second column is 1.\n",
    "* Add up the remaining numbers in the first column. The total is the product of your original numbers.\n",
    "\n",
    "```\n",
    "Let's multiply 57 by 86 as an example:\n",
    "Write each number at the head of a column.\n",
    "\n",
    "57 \t 86 \n",
    "Double the number in the first column, and halve the number in the second column.\n",
    "\n",
    "57 \t86 \n",
    "114    43 \n",
    "If the number in the second column is even, cross out that entire row.\n",
    "\n",
    "57 XX   86 XX \n",
    "114 \t43 \n",
    "Keep doubling, halving, and crossing out until the number in the second column is 1.\n",
    "\n",
    "57 XX   86 XX\n",
    "114 \t43 \n",
    "228 \t21 \n",
    "456 XX  10 XX\n",
    "912 \t 5 \n",
    "1824 XX  2 \n",
    "3648 \t1 \n",
    "Add up the remaining numbers in the first column.\n",
    "\n",
    "  114 \t43 \n",
    "  228 \t21 \n",
    "  912 \t 5 \n",
    "+ 3648     1\n",
    "--------------\n",
    "  4902\n",
    "```\n"
   ]
  },
  {
   "cell_type": "code",
   "execution_count": null,
   "metadata": {
    "collapsed": false
   },
   "outputs": [],
   "source": [
    "# Russian Peasant's Algorithm for Multiplication\n",
    "def russian(a, b):\n",
    "    x = a\n",
    "    y = b\n",
    "    z = 0\n",
    "    while x > 0:\n",
    "        if x % 2 == 1:\n",
    "            z = z + y\n",
    "        y = y << 1\n",
    "        x = x >> 1\n",
    "    return z\n",
    "\n",
    "%timeit russian(BIG_NUMBER, BIG_NUMBER)\n",
    "# 100000 loops, best of 3: 7.4 us per loop"
   ]
  },
  {
   "cell_type": "code",
   "execution_count": null,
   "metadata": {
    "collapsed": false
   },
   "outputs": [],
   "source": [
    "# Recursive Russian Peasant's Algorithm\n",
    "def rec_russian(a, b):\n",
    "    if a == 0:\n",
    "        return 0\n",
    "    if a % 2 == 0:\n",
    "        return 2 * rec_russian(a/2, b)\n",
    "    return b + 2 * rec_russian((a-1)/2, b)\n",
    "\n",
    "%timeit rec_russian(BIG_NUMBER, BIG_NUMBER)\n",
    "# 100000 loops, best of 3: 9.47 us per loop"
   ]
  },
  {
   "cell_type": "markdown",
   "metadata": {},
   "source": [
    "_this IPython notebook is a part of presentation at **PyCon India 2012**, by **Dhruv Baldawa (@dhruvbaldawa)**_"
   ]
  }
 ],
 "metadata": {
  "kernelspec": {
   "display_name": "Python 2",
   "language": "python",
   "name": "python2"
  },
  "language_info": {
   "codemirror_mode": {
    "name": "ipython",
    "version": 2
   },
   "file_extension": ".py",
   "mimetype": "text/x-python",
   "name": "python",
   "nbconvert_exporter": "python",
   "pygments_lexer": "ipython2",
   "version": "2.7.11"
  }
 },
 "nbformat": 4,
 "nbformat_minor": 0
}
